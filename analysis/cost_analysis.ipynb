{
 "cells": [
  {
   "cell_type": "code",
   "execution_count": 1,
   "metadata": {},
   "outputs": [],
   "source": [
    "import pandas as pd"
   ]
  },
  {
   "cell_type": "code",
   "execution_count": 9,
   "metadata": {},
   "outputs": [],
   "source": [
    "VM_COST_HR = 0.0562"
   ]
  },
  {
   "cell_type": "code",
   "execution_count": 15,
   "metadata": {},
   "outputs": [
    {
     "data": {
      "text/html": [
       "<div>\n",
       "<style scoped>\n",
       "    .dataframe tbody tr th:only-of-type {\n",
       "        vertical-align: middle;\n",
       "    }\n",
       "\n",
       "    .dataframe tbody tr th {\n",
       "        vertical-align: top;\n",
       "    }\n",
       "\n",
       "    .dataframe thead th {\n",
       "        text-align: right;\n",
       "    }\n",
       "</style>\n",
       "<table border=\"1\" class=\"dataframe\">\n",
       "  <thead>\n",
       "    <tr style=\"text-align: right;\">\n",
       "      <th></th>\n",
       "      <th>repo_id</th>\n",
       "      <th>build_start</th>\n",
       "      <th>helix_test_start</th>\n",
       "      <th>build_end</th>\n",
       "      <th>wasted_time_sec</th>\n",
       "    </tr>\n",
       "  </thead>\n",
       "  <tbody>\n",
       "    <tr>\n",
       "      <th>0</th>\n",
       "      <td>dotnet/runtime</td>\n",
       "      <td>2022-08-02T21:04:08.7772084Z</td>\n",
       "      <td>2022-08-02T22:57:40.14Z</td>\n",
       "      <td>2022-08-03T00:55:37.9176919Z</td>\n",
       "      <td>6051</td>\n",
       "    </tr>\n",
       "    <tr>\n",
       "      <th>1</th>\n",
       "      <td>dotnet/runtime</td>\n",
       "      <td>2022-08-06T11:00:55.4490146Z</td>\n",
       "      <td>2022-08-06T11:23:24.3Z</td>\n",
       "      <td>2022-08-06T13:11:39.980272Z</td>\n",
       "      <td>1647</td>\n",
       "    </tr>\n",
       "    <tr>\n",
       "      <th>2</th>\n",
       "      <td>dotnet/runtime</td>\n",
       "      <td>2022-08-04T15:18:11.4521962Z</td>\n",
       "      <td>2022-08-04T16:26:06.7833333Z</td>\n",
       "      <td>2022-08-04T17:43:34.541066Z</td>\n",
       "      <td>2167</td>\n",
       "    </tr>\n",
       "    <tr>\n",
       "      <th>3</th>\n",
       "      <td>dotnet/runtime</td>\n",
       "      <td>2022-08-04T09:00:58.1759273Z</td>\n",
       "      <td>2022-08-04T10:11:57.3833333Z</td>\n",
       "      <td>2022-08-04T13:12:33.2063315Z</td>\n",
       "      <td>5781</td>\n",
       "    </tr>\n",
       "    <tr>\n",
       "      <th>4</th>\n",
       "      <td>dotnet/runtime</td>\n",
       "      <td>2022-08-03T02:02:55.6874238Z</td>\n",
       "      <td>2022-08-03T02:55:02.38Z</td>\n",
       "      <td>2022-08-03T04:24:55.8165644Z</td>\n",
       "      <td>1349</td>\n",
       "    </tr>\n",
       "  </tbody>\n",
       "</table>\n",
       "</div>"
      ],
      "text/plain": [
       "          repo_id                   build_start              helix_test_start  \\\n",
       "0  dotnet/runtime  2022-08-02T21:04:08.7772084Z       2022-08-02T22:57:40.14Z   \n",
       "1  dotnet/runtime  2022-08-06T11:00:55.4490146Z        2022-08-06T11:23:24.3Z   \n",
       "2  dotnet/runtime  2022-08-04T15:18:11.4521962Z  2022-08-04T16:26:06.7833333Z   \n",
       "3  dotnet/runtime  2022-08-04T09:00:58.1759273Z  2022-08-04T10:11:57.3833333Z   \n",
       "4  dotnet/runtime  2022-08-03T02:02:55.6874238Z       2022-08-03T02:55:02.38Z   \n",
       "\n",
       "                      build_end  wasted_time_sec  \n",
       "0  2022-08-03T00:55:37.9176919Z             6051  \n",
       "1   2022-08-06T13:11:39.980272Z             1647  \n",
       "2   2022-08-04T17:43:34.541066Z             2167  \n",
       "3  2022-08-04T13:12:33.2063315Z             5781  \n",
       "4  2022-08-03T04:24:55.8165644Z             1349  "
      ]
     },
     "execution_count": 15,
     "metadata": {},
     "output_type": "execute_result"
    }
   ],
   "source": [
    "df = pd.read_csv('../helix_logs.csv')\n",
    "df.head()"
   ]
  },
  {
   "cell_type": "code",
   "execution_count": 19,
   "metadata": {},
   "outputs": [
    {
     "data": {
      "text/plain": [
       "2773.5832117777777"
      ]
     },
     "execution_count": 19,
     "metadata": {},
     "output_type": "execute_result"
    }
   ],
   "source": [
    "total_cost_wk = df.wasted_time_sec.sum() / 60 / 60 * VM_COST_HR\n",
    "total_cost_wk * 4"
   ]
  },
  {
   "cell_type": "code",
   "execution_count": null,
   "metadata": {},
   "outputs": [],
   "source": []
  }
 ],
 "metadata": {
  "kernelspec": {
   "display_name": "Python 3.9.12 ('base')",
   "language": "python",
   "name": "python3"
  },
  "language_info": {
   "codemirror_mode": {
    "name": "ipython",
    "version": 3
   },
   "file_extension": ".py",
   "mimetype": "text/x-python",
   "name": "python",
   "nbconvert_exporter": "python",
   "pygments_lexer": "ipython3",
   "version": "3.9.12"
  },
  "orig_nbformat": 4,
  "vscode": {
   "interpreter": {
    "hash": "5c77b19177d291ec2d7cce4548ea50713ac2cc808b6a2de76dcfd4c21b2fd2db"
   }
  }
 },
 "nbformat": 4,
 "nbformat_minor": 2
}
