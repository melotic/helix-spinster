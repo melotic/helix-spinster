{
 "cells": [
  {
   "cell_type": "code",
   "execution_count": 1,
   "metadata": {},
   "outputs": [],
   "source": [
    "import pandas as pd"
   ]
  },
  {
   "cell_type": "code",
   "execution_count": 5,
   "metadata": {},
   "outputs": [],
   "source": [
    "VM_COST_HR = 0.0562"
   ]
  },
  {
   "cell_type": "code",
   "execution_count": 2,
   "metadata": {},
   "outputs": [
    {
     "data": {
      "text/html": [
       "<div>\n",
       "<style scoped>\n",
       "    .dataframe tbody tr th:only-of-type {\n",
       "        vertical-align: middle;\n",
       "    }\n",
       "\n",
       "    .dataframe tbody tr th {\n",
       "        vertical-align: top;\n",
       "    }\n",
       "\n",
       "    .dataframe thead th {\n",
       "        text-align: right;\n",
       "    }\n",
       "</style>\n",
       "<table border=\"1\" class=\"dataframe\">\n",
       "  <thead>\n",
       "    <tr style=\"text-align: right;\">\n",
       "      <th></th>\n",
       "      <th>start_time</th>\n",
       "      <th>worker_name</th>\n",
       "      <th>wasted_time</th>\n",
       "      <th>definition</th>\n",
       "      <th>repository</th>\n",
       "    </tr>\n",
       "  </thead>\n",
       "  <tbody>\n",
       "    <tr>\n",
       "      <th>0</th>\n",
       "      <td>2022-08-08T11:46:54Z</td>\n",
       "      <td>NetCore1ESPool-Public 126</td>\n",
       "      <td>8452</td>\n",
       "      <td>\\dotnet\\runtime\\runtime</td>\n",
       "      <td>dotnet/runtime</td>\n",
       "    </tr>\n",
       "    <tr>\n",
       "      <th>1</th>\n",
       "      <td>2022-08-08T11:47:00Z</td>\n",
       "      <td>NetCore1ESPool-Public 14</td>\n",
       "      <td>1034</td>\n",
       "      <td>\\dotnet\\runtime\\runtime</td>\n",
       "      <td>dotnet/runtime</td>\n",
       "    </tr>\n",
       "    <tr>\n",
       "      <th>2</th>\n",
       "      <td>2022-08-08T11:47:11Z</td>\n",
       "      <td>NetCore1ESPool-Public 570</td>\n",
       "      <td>2123</td>\n",
       "      <td>\\dotnet\\runtime\\runtime</td>\n",
       "      <td>dotnet/runtime</td>\n",
       "    </tr>\n",
       "    <tr>\n",
       "      <th>3</th>\n",
       "      <td>2022-08-08T12:22:55Z</td>\n",
       "      <td>NetCore1ESPool-Public 101</td>\n",
       "      <td>942</td>\n",
       "      <td>\\dotnet\\runtime\\runtime</td>\n",
       "      <td>dotnet/runtime</td>\n",
       "    </tr>\n",
       "    <tr>\n",
       "      <th>4</th>\n",
       "      <td>2022-08-08T12:34:39Z</td>\n",
       "      <td>NetCore1ESPool-Public 210</td>\n",
       "      <td>781</td>\n",
       "      <td>\\dotnet\\runtime\\runtime</td>\n",
       "      <td>dotnet/runtime</td>\n",
       "    </tr>\n",
       "  </tbody>\n",
       "</table>\n",
       "</div>"
      ],
      "text/plain": [
       "             start_time                worker_name  wasted_time  \\\n",
       "0  2022-08-08T11:46:54Z  NetCore1ESPool-Public 126         8452   \n",
       "1  2022-08-08T11:47:00Z   NetCore1ESPool-Public 14         1034   \n",
       "2  2022-08-08T11:47:11Z  NetCore1ESPool-Public 570         2123   \n",
       "3  2022-08-08T12:22:55Z  NetCore1ESPool-Public 101          942   \n",
       "4  2022-08-08T12:34:39Z  NetCore1ESPool-Public 210          781   \n",
       "\n",
       "                definition      repository  \n",
       "0  \\dotnet\\runtime\\runtime  dotnet/runtime  \n",
       "1  \\dotnet\\runtime\\runtime  dotnet/runtime  \n",
       "2  \\dotnet\\runtime\\runtime  dotnet/runtime  \n",
       "3  \\dotnet\\runtime\\runtime  dotnet/runtime  \n",
       "4  \\dotnet\\runtime\\runtime  dotnet/runtime  "
      ]
     },
     "execution_count": 2,
     "metadata": {},
     "output_type": "execute_result"
    }
   ],
   "source": [
    "df = pd.read_csv('../helix_logs.csv')\n",
    "df.head()"
   ]
  },
  {
   "cell_type": "code",
   "execution_count": 3,
   "metadata": {},
   "outputs": [],
   "source": [
    "df.repository = df.repository.str.replace('dotnet-', 'dotnet/')"
   ]
  },
  {
   "cell_type": "code",
   "execution_count": 8,
   "metadata": {},
   "outputs": [
    {
     "data": {
      "text/plain": [
       "1053.3312475555556"
      ]
     },
     "execution_count": 8,
     "metadata": {},
     "output_type": "execute_result"
    }
   ],
   "source": [
    "total_cost_wk = df.wasted_time.sum() / 60 /60 * VM_COST_HR\n",
    "total_cost_wk"
   ]
  },
  {
   "cell_type": "code",
   "execution_count": null,
   "metadata": {},
   "outputs": [],
   "source": []
  }
 ],
 "metadata": {
  "kernelspec": {
   "display_name": "Python 3.9.12 ('base')",
   "language": "python",
   "name": "python3"
  },
  "language_info": {
   "codemirror_mode": {
    "name": "ipython",
    "version": 3
   },
   "file_extension": ".py",
   "mimetype": "text/x-python",
   "name": "python",
   "nbconvert_exporter": "python",
   "pygments_lexer": "ipython3",
   "version": "3.9.12"
  },
  "orig_nbformat": 4,
  "vscode": {
   "interpreter": {
    "hash": "5c77b19177d291ec2d7cce4548ea50713ac2cc808b6a2de76dcfd4c21b2fd2db"
   }
  }
 },
 "nbformat": 4,
 "nbformat_minor": 2
}
